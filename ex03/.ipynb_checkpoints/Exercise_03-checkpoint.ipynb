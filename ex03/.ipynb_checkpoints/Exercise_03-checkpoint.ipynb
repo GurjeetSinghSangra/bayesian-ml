{
 "cells": [
  {
   "cell_type": "markdown",
   "metadata": {
    "id": "oNh6Tglxe-49"
   },
   "source": [
    "Author: Gurjeet Singh (gurjeet.singh@helsinki.fi)\n",
    "\n",
    "\n",
    "# Distributional approximations for Poisson-gamma\n",
    "\n",
    "$$x_n \\sim Poisson(uv), \\quad u \\sim Gamma(5, 1), \\quad v \\sim Gamma(4,4)$$\n",
    "\n",
    "$x_n$ are conditionally independent of each other\n",
    "\n",
    "The joint log probability is: \n",
    "\n",
    "$$ \\log p(X,u,v) = \\sum_i \\left [ x_i \\log u + x_i \\log v - uv - \\log x_i! \\right ] $$ \n",
    "$$\\quad\\quad\\quad + \\alpha_u \\log \\beta_u - \\log \\Gamma(\\alpha_u) + (\\alpha_u - 1)\\log u - \\beta_u u $$\n",
    "$$\\quad\\quad\\quad + \\alpha_v \\log \\beta_v - \\log \\Gamma(\\alpha_v) + (\\alpha_v - 1)\\log v - \\beta_v v $$"
   ]
  },
  {
   "cell_type": "markdown",
   "metadata": {
    "id": "5mAvE0BJe-5G"
   },
   "source": [
    "## Laplace approximation\n",
    "\n",
    "$$ \\frac{d\\; log p(X, u,v)}{du^2 } = \\sum_{i} \\left( -\\frac{x_i}{u^2} \\right) - \\frac{4}{u^2} $$\n",
    "$$ \\frac{d\\; log p(X, u,v)}{duv } = -N $$\n",
    "$$ \\frac{d\\; log p(X, u,v)}{dv^2 } = \\sum_{i} \\left( -\\frac{x_i}{v^2} \\right) - \\frac{3}{v^2} $$\n",
    "$$\\frac{d\\; log p(X, u,v)}{dvu } = -N $$\n",
    "\n",
    "After estimating the $v$ and $u$ we calculate the negative hessian with the estimated values from MAP.\n",
    "\n",
    "$$ -\\mathcal{H} =  \n",
    "\\begin{bmatrix} \n",
    "\\sum_{i} \\left( \\frac{x_i}{u^2} \\right) + \\frac{4}{u^2}  & N \\\\\n",
    "    N &  \\sum_{i} \\left( \\frac{x_i}{v^2} \\right)  \\frac{3}{v^2}\n",
    "\\end{bmatrix}$$"
   ]
  },
  {
   "cell_type": "code",
   "execution_count": 1,
   "metadata": {
    "id": "gN-RXCIwe-5I"
   },
   "outputs": [],
   "source": [
    "import numpy as np\n",
    "import scipy.stats as stats\n",
    "import matplotlib.pyplot as plt\n",
    "import torch\n",
    "import torch.distributions as dist\n",
    "import os\n",
    "import time\n",
    "os.environ['KMP_DUPLICATE_LIB_OK']='True'\n",
    "\n",
    "\n",
    "np.random.seed(23)\n",
    "# Define the same model as for MCMC\n",
    "prior_u_alpha, prior_u_beta = (5., 1.)\n",
    "prior_v_alpha, prior_v_beta = (4., 4.)\n",
    "\n",
    "u_prior = dist.gamma.Gamma(torch.tensor([prior_u_alpha]), torch.tensor([prior_u_alpha]))\n",
    "v_prior = dist.gamma.Gamma(torch.tensor([prior_v_alpha]), torch.tensor([prior_v_alpha]))\n",
    "\n",
    "# Re-use same data\n",
    "x = torch.tensor([3, 4, 3, 9, 10, 3, 2, 3, 3, 2])\n",
    "N=10\n",
    "\n",
    "def log_posterior(data, u, v):\n",
    "    likelihood = dist.Poisson(u*v)\n",
    "    return torch.sum(likelihood.log_prob(data)) + u_prior.log_prob(u) + v_prior.log_prob(v)\n"
   ]
  },
  {
   "cell_type": "code",
   "execution_count": 2,
   "metadata": {
    "colab": {
     "base_uri": "https://localhost:8080/"
    },
    "id": "-ONFvazEe-5O",
    "outputId": "878dfe90-aa2e-45fc-f883-ce6fb52e204c"
   },
   "outputs": [
    {
     "name": "stdout",
     "output_type": "stream",
     "text": [
      "MAP estimate for u:\n",
      " mean :  2.6992931\n",
      " std :  0.35852754\n",
      "MAP estimate for v: \n",
      " mean :  1.4088619\n",
      " std :  0.21530743\n",
      " Time passed for the Laplace Approximation method:  0.2955325739999921\n",
      "Gibbs samples run\n",
      " mean u:  2.8247328054222303\n",
      " variance u:  1.6605064866648005\n",
      " mean v:  1.888846281720226\n",
      " variance v:  0.828563344987273\n",
      " Time passed for the Gibbs sampler:  0.2603018289999852\n"
     ]
    }
   ],
   "source": [
    "# First find the best point estimate, parameterizing precision in log-domain\n",
    "u = torch.nn.Parameter(torch.as_tensor(3.0))\n",
    "v = torch.nn.Parameter(torch.as_tensor(.5))\n",
    "\n",
    "tic = time.perf_counter()\n",
    "optimizer = torch.optim.SGD({u, v}, lr=1e-3)\n",
    "for iter in range(200):\n",
    "    loss = -log_posterior(x, u, v)\n",
    "    optimizer.zero_grad()\n",
    "    loss.backward()\n",
    "    optimizer.step()\n",
    "\n",
    "def lossForHessian(param):\n",
    "    return -log_posterior(x, param[0], param[1])\n",
    "\n",
    "#negative Hessian\n",
    "def get_hessian(x, param):\n",
    "    u = param[0]\n",
    "    v = param[1]\n",
    "    return torch.tensor([[torch.sum(x / u.pow(2)) + 4./v.pow(2), N],\n",
    "                  [N , torch.sum(x / v.pow(2)) + 3./u.pow(2)]])\n",
    "    \n",
    "    \n",
    "param = torch.tensor([u.item(), v.item()])\n",
    "H = get_hessian(x, param)\n",
    "\n",
    "# Form the actual approximation\n",
    "laplace = dist.multivariate_normal.MultivariateNormal(torch.tensor([u, v]), precision_matrix=H)\n",
    "laplace_u = dist.normal.Normal(u, scale=1.0/torch.sqrt(H[0,0]))\n",
    "laplace_v = dist.normal.Normal(v, scale=1.0/torch.sqrt(H[1,1]))\n",
    "\n",
    "toc = time.perf_counter()\n",
    "print(\"MAP estimate for u:\",)\n",
    "print(\" mean : \", laplace_u.mean.detach().numpy())\n",
    "print(\" std : \", laplace_u.scale.detach().numpy())\n",
    "print(\"MAP estimate for v: \", )\n",
    "print(\" mean : \", laplace_v.mean.detach().numpy())\n",
    "print(\" std : \", laplace_v.scale.detach().numpy())\n",
    "\n",
    "print(\" Time passed for the Laplace Approximation method: \", toc-tic)\n",
    "def Gibbs(x, u, v, T):\n",
    "    # Storage for samples\n",
    "    samples = [u, v]\n",
    "    sumx = sum(x)\n",
    "    N = len(x)\n",
    "    for t in range(T):\n",
    "        # Sample u conditional on v and data\n",
    "        log_lambda_term = sumx + prior_u_alpha\n",
    "        lambda_term = N*v + prior_u_beta\n",
    "        u = np.random.gamma(log_lambda_term, scale = 1.0 / lambda_term)\n",
    "        \n",
    "        # Sample v conditional on u and data\n",
    "        log_lambda_term = sumx + prior_v_alpha\n",
    "        lambda_term = N*u + prior_u_beta\n",
    "        v = np.random.gamma(log_lambda_term, scale = 1.0 / lambda_term)\n",
    "\n",
    "        samples = np.vstack([samples, [u, v]])\n",
    "    return samples\n",
    "\n",
    "print(\"Gibbs samples run\")\n",
    "\n",
    "tic = time.perf_counter()\n",
    "gibbs_samples = Gibbs(x, 3.0, 0.5, 2000)\n",
    "toc = time.perf_counter()\n",
    "\n",
    "print(\" mean u: \", np.mean(gibbs_samples[500:,0]))\n",
    "print(\" variance u: \", np.var(gibbs_samples[500:,0]))\n",
    "print(\" mean v: \", np.mean(gibbs_samples[500:,1]))\n",
    "print(\" variance v: \", np.var(gibbs_samples[500:,1]))\n",
    "print(\" Time passed for the Gibbs sampler: \", toc-tic)"
   ]
  },
  {
   "cell_type": "code",
   "execution_count": 3,
   "metadata": {
    "colab": {
     "base_uri": "https://localhost:8080/",
     "height": 545
    },
    "id": "jum5UjqUe-5T",
    "outputId": "f33bbf98-d987-45bd-a770-ac7c7451ede0"
   },
   "outputs": [
    {
     "data": {
      "image/png": "[encoded data removed]",
      "text/plain": [
       "<Figure size 432x288 with 1 Axes>"
      ]
     },
     "metadata": {
      "needs_background": "light"
     },
     "output_type": "display_data"
    },
    {
     "data": {
      "image/png": "[encoded data removed]",
      "text/plain": [
       "<Figure size 432x288 with 1 Axes>"
      ]
     },
     "metadata": {
      "needs_background": "light"
     },
     "output_type": "display_data"
    }
   ],
   "source": [
    "# Marginal distribution for u\n",
    "ind = torch.tensor(np.arange(-0.5, 8.0, 0.01),dtype=torch.double)\n",
    "plt.hist(gibbs_samples[1000:,0], bins=20, density=True)\n",
    "plt.plot(ind, torch.exp(laplace_u.log_prob(ind)).detach())\n",
    "plt.title(\"Marginal distribution of u\")\n",
    "plt.show()\n",
    "\n",
    "# Marginal distribution for v\n",
    "ind = torch.tensor(np.arange(-0.5, 8, 0.01),dtype=torch.double)\n",
    "plt.hist(gibbs_samples[1000:,1], bins=20, density=True)\n",
    "plt.plot(ind, torch.exp(laplace_v.log_prob(ind)).detach())\n",
    "plt.title(\"Marginal distribution of v\")\n",
    "plt.show()"
   ]
  },
  {
   "cell_type": "markdown",
   "metadata": {
    "id": "Fs77OzxAe-5U"
   },
   "source": [
    "From the plot above we can see that the Laplace approximation is able to capture approximately the distribution of the data. The marginals distritbution show a good summary of the estimated parameter, indeed they quantify the uncertainty quite close to the mean, close to the gibbs sampler estimation.\n",
    "In addition it requires less iterations to achieve the final result. However, the Laplace approximation method takes more computational time for the same amount of iterations used with the Gibbs sampler."
   ]
  },
  {
   "cell_type": "markdown",
   "metadata": {
    "id": "O4wEtDz4e-5V"
   },
   "source": [
    "## Mean-field variational Approximation\n",
    "$$\n",
    "q(u,v \\vert \\lambda) \\approx q(u \\vert a, b) \\; q(v \\vert c, d) $$\n",
    "$$ q_u \\approx \\exp \\left(\\mathbf{E}_{q_v}\\left[ log(q(u \\vert v, X) \\right]\\right), \\quad q_v \\approx \\exp \\left(\\mathbf{E}_{q_u}\\left[ log(q(v \\vert u, X) \\right]\\right) $$\n",
    "$$\\mathbf{E}_{q_v}\\left[ log(q(u \\vert v, X) \\right] = C + \\left( \\left( \\alpha_u + \\sum_i x_i \\right) -1 \\right) log(u) - \\left( \\mathbf{E}_{q_v} \\left[nv \\right] + \\beta_u\\right) u $$\n",
    "$$\\mathbf{E}_{q_v} \\left[nv \\right] = \\frac{c}{d} $$\n",
    "$$\\mathbf{E}_{q_v}\\left[ log(q(u \\vert v, X) \\right] \\sim Gamma(\\alpha_u + \\sum_i x_i,\\; N \\frac{c}{d} + \\beta_u)$$\n",
    "$$\\mathbf{E}_{q_u}\\left[ log(q(v \\vert u, X) \\right] = C + \\left( \\left( \\alpha_v + \\sum_i x_i \\right) -1 \\right) log(v) - \\left( \\mathbf{E}_{q_u} \\left[nu \\right] + \\beta_v\\right) v$$\n",
    "$$\\mathbf{E}_{q_u} \\left[nu \\right] = \\frac{a}{b} $$\n",
    "$$\\mathbf{E}_{q_v}\\left[ log(q(v \\vert u, X) \\right] \\sim Gamma(\\alpha_v + \\sum_i x_i,\\; N \\;\\frac{a}{b} + \\beta_v)\n",
    "$$"
   ]
  },
  {
   "cell_type": "code",
   "execution_count": 4,
   "metadata": {
    "id": "ldeVxgcqe-5X"
   },
   "outputs": [],
   "source": [
    "from scipy.special import digamma\n",
    "\n",
    "# Reuse the same data\n",
    "if(isinstance(x, torch.Tensor)):\n",
    "    x = x.numpy()\n",
    "\n",
    "# Define the same model as for MCMC\n",
    "prior_u_alpha, prior_u_beta = (5., 1.)\n",
    "prior_v_alpha, prior_v_beta = (4., 4.)\n",
    "\n",
    "# Priors\n",
    "u_prior = stats.gamma(prior_u_alpha, scale=1./prior_u_beta)\n",
    "v_prior = stats.gamma(prior_v_alpha, scale=1./prior_v_beta)\n",
    "    \n",
    "# Define the model again in numpy\n",
    "#mean_prior = stats.norm(prior_mu, prior_sigma)\n",
    "#prec_prior = stats.gamma(prior_alpha, scale=1.0/prior_beta)\n",
    "\n",
    "def log_posterior(data, u, v):\n",
    "    likelihood = stats.poisson(u*v)\n",
    "    return np.sum(likelihood.logpmf(data)) + u_prior.logpdf(u) + v_prior.logpdf(v)\n",
    "\n",
    "# Definte the approximation\n",
    "q_u_param = [prior_u_alpha + x.sum(), 1.0]\n",
    "q_v_param = [prior_v_alpha + x.sum(), 4.0]\n",
    "q_u = stats.gamma(q_u_param[0], scale=1.0/q_u_param[1]) \n",
    "q_v = stats.gamma(q_v_param[0], scale=1.0/q_v_param[1])\n",
    "\n",
    "tic = time.perf_counter()\n",
    "for iter in range(10):\n",
    "    # Update q_u\n",
    "    E_qv = q_v.mean()\n",
    "    # Update the parameters\n",
    "    x_sum = x.sum()\n",
    "    lenx = len(x)\n",
    "    \n",
    "    q_u_param[0] = prior_u_alpha + x_sum\n",
    "    q_u_param[1] = lenx * E_qv + prior_u_beta\n",
    "    q_u = stats.gamma(q_u_param[0], scale=1.0/q_u_param[1])\n",
    "    \n",
    "    ### Update q_v\n",
    "    # Compute required expectations\n",
    "    E_qu = q_u.mean()\n",
    "    \n",
    "    # Update the parameters\n",
    "    q_v_param[0] = prior_v_alpha + x_sum\n",
    "    q_v_param[1] = lenx * E_qu + prior_v_beta\n",
    "    q_v = stats.gamma(q_v_param[0], scale=1.0/q_v_param[1])\n",
    "    # Here we could (and should) evaluate the objective -- try implementing it!\n",
    "toc = time.perf_counter()"
   ]
  },
  {
   "cell_type": "code",
   "execution_count": 5,
   "metadata": {
    "colab": {
     "base_uri": "https://localhost:8080/",
     "height": 687
    },
    "id": "eeVw79mTe-5Y",
    "outputId": "1456acdf-bbe4-4620-ac77-4a2050f6e754"
   },
   "outputs": [
    {
     "name": "stdout",
     "output_type": "stream",
     "text": [
      "Parameters of q_u:  [47.0, 14.090446157973092]\n",
      " Mean: 3.3355934562373672\n",
      " Std: 0.48654631113449626\n",
      "Parameters of q_v:  [46.0, 37.355934562373676]\n",
      " Mean: 1.2313973814038361\n",
      " Std: 0.18155963871819955\n",
      " Time passed for the Mean-field variational approximation:  0.11790320700001189\n",
      "\n"
     ]
    },
    {
     "data": {
      "image/png": "[encoded data removed]",
      "text/plain": [
       "<Figure size 432x288 with 1 Axes>"
      ]
     },
     "metadata": {
      "needs_background": "light"
     },
     "output_type": "display_data"
    },
    {
     "data": {
      "image/png": "[encoded data removed]",
      "text/plain": [
       "<Figure size 432x288 with 1 Axes>"
      ]
     },
     "metadata": {
      "needs_background": "light"
     },
     "output_type": "display_data"
    }
   ],
   "source": [
    "print(\"Parameters of q_u: \", q_u_param)\n",
    "print(\" Mean:\", q_u.mean())\n",
    "print(\" Std:\", q_u.std())\n",
    "print(\"Parameters of q_v: \", q_v_param)\n",
    "print(\" Mean:\", q_v.mean())\n",
    "print(\" Std:\", q_v.std())\n",
    "\n",
    "print(\" Time passed for the Mean-field variational approximation: \", toc-tic)\n",
    "print()\n",
    "\n",
    "# Marginal distribution for mu\n",
    "ind = np.arange(0., 8.0, 0.01)\n",
    "plt.hist(gibbs_samples[1000:,0], bins=20, density=True)\n",
    "plt.plot(ind, np.exp(q_u.logpdf(ind)))\n",
    "plt.title(\"Marginal distribution of u\")\n",
    "plt.show()\n",
    "\n",
    "# Marginal distribution for prec\n",
    "ind = np.arange(0, 8., 0.01)\n",
    "plt.hist(gibbs_samples[1000:,1], bins=20, density=True)\n",
    "plt.plot(ind, np.exp(q_v.logpdf(ind)))\n",
    "plt.title(\"Marginal distribution of v\")\n",
    "plt.show()"
   ]
  },
  {
   "cell_type": "markdown",
   "metadata": {
    "id": "MirAO3CCwyF7"
   },
   "source": [
    "How does it differ from the Laplace approximation?\n",
    "\n",
    "The mean-field variational approximation methods requires only a few iterations to converge at a suboptimal distribution (10 iterations, incontrast of 100 iterations of Laplace method), and it requires less computational time.\n",
    "However, the resulting distribution differs from the Gibbs marginal posterior. Indeed, by approximating the the posteriors on expectations the parameter are stuck in a suboptimal solution.\n",
    "\n",
    "The resulted approximation it's also worse than the Laplace approximation method."
   ]
  },
  {
   "cell_type": "markdown",
   "metadata": {
    "id": "204QD2oZ4w-k"
   },
   "source": [
    "# Mixture models\n",
    "Having:\n",
    "$$ p(\\boldsymbol{\\pi} \\vert \\alpha) = Dirichlet(\\alpha) $$\n",
    "$$ p(\\mu_k \\vert \\tau_0) = \\mathcal{N (0, \\tau_0)} $$\n",
    "$$p(\\tau_k \\vert \\alpha_0, \\beta_0) = Gamma(\\alpha_0, \\beta_0) $$\n",
    "$$ p(z_n \\vert \\boldsymbol\\pi) = Categorical(\\boldsymbol\\pi)$$\n",
    "$$ p(x_n \\vert \\ \\mu_{z_n}, \\tau_{z_n}, z_n) = \\mathcal{N}(\\mu_{z_n}, \\tau_{z_n}) $$\n",
    "\n",
    "The log-density is: \n",
    "\n",
    "$$\n",
    "\\begin{aligned}\n",
    "\\log &\\left[\\prod_{n} \\prod_{k}\\left(p\\left(z_{n} \\mid \\boldsymbol{\\pi}\\right) p\\left(x_{n} \\mid \\mu_{z_{n}}, \\tau_{z_{n}}\\right)\\right)^{\\left.\\mathbb{I} z_{n}=k\\right]}\\right]\\left[\\prod_{k} p\\left(\\mu_{k}\\right) p\\left(\\tau_{k}\\right)\\right] p(\\boldsymbol{\\pi}) \\\\\n",
    "=& \\sum_{n} \\sum_{k} \\mathbb{I}\\left[z_{n}=k\\right]\\left[\\log \\pi_{k}+\\left(-\\frac{1}{2} \\log (2 \\pi)+\\frac{1}{2} \\log \\tau_{d}-\\frac{1}{2} \\tau_{d}\\left(x_{d}-\\mu_{d}\\right)^{2}\\right)\\right] \\\\\n",
    "&+\\sum_{k}\\left(-\\frac{1}{2} \\log (2 \\pi)+\\frac{1}{2} \\log \\tau_{0}-\\frac{1}{2} \\tau_{0} \\mu_{k}^{2}+\\alpha_{0} \\log \\left(\\beta_{0}\\right)-\\Gamma\\left(\\alpha_{0}\\right)+\\left(\\alpha_{0}-1\\right) \\log \\left(\\tau_{k}\\right)-\\beta_{0} \\tau_{k}\\right) \\\\\n",
    "&+\\sum_{k}(\\alpha-1) \\log \\pi_{k}-\\log B(\\alpha)\n",
    "\\end{aligned}\n",
    "$$\n",
    "\n",
    "From the log joint density, assuming independent variables, we retrieve the following conditional distributions:\n",
    "$$\n",
    "p(\\pi \\mid \\boldsymbol{z}, \\alpha)=\\operatorname{Dirichlet}\\left(\\alpha+\\sum_{n} \\mathbb{I}\\left[z_{n}=k\\right]\\right)=\\operatorname{Dirichlet}\\left(\\alpha+N_{k}\\right)$$\n",
    "$$ p\\left(\\tau_{k} \\mid \\ldots\\right)=\\operatorname{Gamma}\\left(\\alpha_{0}+\\frac{1}{2} N_{k}, \\beta_{0}+\\frac{1}{2} \\sum_{n} \\mathbb{I}\\left(z_{n}=k\\right)\\left(x_{n}-\\mu_{k}\\right)^{2}\\right)$$\n",
    "$$ p\\left(\\mu_{k} \\mid \\ldots\\right)=\\mathcal{N}\\left(\\frac{\\tau_{k} \\sum_{n} \\mathbb{I}\\left[z_{n}=k\\right] x_{k}}{t_{0}+N_{k} \\tau_k}, t_{0}+N_{k} \\tau_k\\right)$$\n",
    "$$ p\\left(z_{n}=k \\mid x_{n}, \\ldots\\right)=\\frac{e^{\\nu_{n k}}}{\\sum_{j} e^{\\nu_{n j}}}$$\n",
    "\n",
    "To find the posterior latent distribution $q_{\\theta}$ we apply the CAVI method.\n",
    "\n",
    "$$\n",
    "\\begin{aligned}\n",
    "q(\\boldsymbol{z}, \\boldsymbol{\\pi}, \\boldsymbol{\\tau}, \\boldsymbol{\\mu})=\\prod_{n}\\left[q\\left(z_{n} \\mid \\boldsymbol{\\xi}_{n}\\right)\\right] q(\\boldsymbol{\\pi} \\mid \\boldsymbol{\\eta}) \\prod_{k}\\left[q\\left(\\tau_{k} \\mid a_{k}, b_{k}\\right) q\\left(\\mu_{k} \\mid m_{k}, t_{k}\\right)\\right]\n",
    "\\end{aligned}\n",
    "$$\n",
    "\n",
    "Each latent distribution present the following update:\n",
    "\n",
    "Dirichlet Latent distribution $q(\\pi_k \\vert \\cdot))$:\n",
    "$$\n",
    "\\mathbf{E}_{q_z} q(\\pi_k \\vert \\cdot)) \\sim Dirichlet(alpha_k) \\quad \\alpha_k = \\alpha + \\sum_{n} \\xi_{nk}\n",
    "$$\n",
    "\n",
    "Precision $\\tau_k$ with Gamma Latent distribution $q(\\tau_k \\vert \\cdot)$:\n",
    "\n",
    "$$a_k = \\alpha_0 + \\frac{1}{2} \\sum_{n}\\xi_{nk} $$\n",
    "$$b_k = \\beta_0 + \\frac{1}{2} \\sum_{n} \\xi_{nk} \\left( x_n^2 - 2x_n m + m^2 + \\frac{1}{t}\\right)$$\n",
    "$$\\mathbf{E}_{q_z q_\\mu} q(\\tau_k \\vert \\cdot) \\sim Gamma \\left(a_k , \\; b_k\\right)$$\n",
    "\n",
    "Mean $\\mu_k$ with Normal latent distribution $q(\\mu_k \\vert \\cdot)$:\n",
    "\n",
    "$$\n",
    "\\begin{aligned}\n",
    "m_k = \\frac{\\frac{a_k}{b_k} \\sum_{n}(\\xi_{nk} \\; x_n)}{\\tau_0 + \\frac{\\alpha}{\\beta} \\sum_{n}\\xi_{nk}} \\\\\n",
    "t_k = \\tau_0 + \\frac{a_k}{b_k} \\sum_{n}\\xi_{nk} \\\\\n",
    "\\mathbf{E}_{q_z q_\\tau} q(\\mu_k \\vert \\cdot) \\sim \\mathcal{N} \\left(m_k, \\; t_k \\right)\n",
    "\\end{aligned}\n",
    "$$\n",
    "\n",
    "Finally the categorical distribution $q_z$ is proportional to $v_{nk}$:\n",
    "$$ \\nu_{n k}=\\log p\\left(z_{n}=k \\mid x_{n}, \\ldots\\right) \\propto \\log \\pi_{k}+\\left(-\\frac{1}{2} \\log (2 \\pi)+\\frac{1}{2} \\log \\tau_{k}-\\frac{1}{2} \\tau_{k}\\left(x_{n}-\\mu_{k}\\right)^{2}\\right) $$\n",
    "$$\n",
    "\\begin{aligned}\n",
    "\\zeta_{nk}  = \\mathbf{E}_{q_z q_\\tau q_\\mu} \\left[\\log \\pi_{k}+\\left(-\\frac{1}{2} \\log (2 \\pi)+\\frac{1}{2} \\log \\tau_{k}-\\frac{1}{2} \\tau_{k}\\left(x_{n}-\\mu_{k}\\right)^{2}\\right) \\right] \\\\\n",
    "\\zeta_{nk} = \\psi(\\alpha_k) - \\psi\\left(\\sum_{k'}\\alpha_{k'}\\right) + \\frac{1}{2}\\left(\\psi(a_k) - log(b_k) \\right) - \\frac{a_k}{2b_k}\\left(x_n^2 - 2x_n m_k + m_k^2 + \\frac{1}{t} \\right)\n",
    "\\end{aligned}\n",
    "$$\n",
    "$$\\xi_{n k} = \\frac{\\zeta_{n k}}{\\sum_{k}\\zeta_{n k'}}$$\n",
    "\n",
    "Where $\\psi$ is the digamma function.\n",
    "\n"
   ]
  },
  {
   "cell_type": "code",
   "execution_count": 47,
   "metadata": {
    "colab": {
     "base_uri": "https://localhost:8080/",
     "height": 532
    },
    "id": "OkXWVLN8Xk19",
    "outputId": "fc405469-7a88-47aa-a685-fead58ba8266"
   },
   "outputs": [
    {
     "data": {
      "text/plain": [
       "(array([ 0.,  0.,  0.,  0.,  0.,  0.,  0.,  0.,  2.,  1.,  3.,  4., 12.,\n",
       "        11., 16., 13., 19., 16., 15., 12., 19.,  7., 12., 14., 16., 12.,\n",
       "         9., 13., 16., 22., 24., 30., 26., 42., 36., 31., 20.,  6., 11.,\n",
       "         6.,  0.,  1.,  2.,  1.,  0.,  0.,  0.,  0.,  0.]),\n",
       " array([-4.        , -3.83673469, -3.67346939, -3.51020408, -3.34693878,\n",
       "        -3.18367347, -3.02040816, -2.85714286, -2.69387755, -2.53061224,\n",
       "        -2.36734694, -2.20408163, -2.04081633, -1.87755102, -1.71428571,\n",
       "        -1.55102041, -1.3877551 , -1.2244898 , -1.06122449, -0.89795918,\n",
       "        -0.73469388, -0.57142857, -0.40816327, -0.24489796, -0.08163265,\n",
       "         0.08163265,  0.24489796,  0.40816327,  0.57142857,  0.73469388,\n",
       "         0.89795918,  1.06122449,  1.2244898 ,  1.3877551 ,  1.55102041,\n",
       "         1.71428571,  1.87755102,  2.04081633,  2.20408163,  2.36734694,\n",
       "         2.53061224,  2.69387755,  2.85714286,  3.02040816,  3.18367347,\n",
       "         3.34693878,  3.51020408,  3.67346939,  3.83673469,  4.        ]),\n",
       " <a list of 49 Patch objects>)"
      ]
     },
     "execution_count": 47,
     "metadata": {},
     "output_type": "execute_result"
    },
    {
     "data": {
      "image/png": "[encoded data removed]",
      "text/plain": [
       "<Figure size 432x288 with 2 Axes>"
      ]
     },
     "metadata": {
      "needs_background": "light"
     },
     "output_type": "display_data"
    }
   ],
   "source": [
    "K = 3; N = 500; x = np.zeros(N)\n",
    "# True parameters\n",
    "pi_true = np.array([0.35, 0.2, 0.45])\n",
    "mu_true = np.array([0., -1.5, 1.5])\n",
    "tau_true = np.array([1., 5., 5.])\n",
    "\n",
    "# Ground thruth and plots\n",
    "z_true = stats.multinomial(1, pi_true).rvs(N)\n",
    "colors = ['r', 'g', 'b']\n",
    "plt.subplot(1,2,1)\n",
    "for k in range(3):\n",
    "  x[z_true[:,k] == 1 ] = stats.norm(mu_true[k], 1./np.sqrt(tau_true[k])).rvs(sum(z_true[:, k]))\n",
    "  plt.hist(x[z_true[:, k] ==1], color=colors[k], bins=np.linspace(-4., 4., 50), alpha = 0.5)\n",
    "plt.subplot(1, 2, 2)\n",
    "plt.hist(x, bins=np.linspace(-4., 4, 50))"
   ]
  },
  {
   "cell_type": "code",
   "execution_count": 73,
   "metadata": {
    "id": "rxX1G8-HBpHT"
   },
   "outputs": [],
   "source": [
    "epochs = 10\n",
    "# priors parameters\n",
    "\n",
    "alpha, alpha_0, beta_0, tau_0 = ([1]*K, [0.5]*K, [0.5]*K, [0.5]*K) #mu is assumed to be zero\n",
    "epsilon = stats.dirichlet(alpha).rvs(N)\n",
    "\n",
    "# latent pdf\n",
    "q_pi = stats.dirichlet(alpha)\n",
    "q_tau = [stats.gamma(alpha_0[0], scale=1.0/beta_0[1])] * K\n",
    "q_mu = [stats.norm(0, scale=1./np.sqrt(tau_0[0]))] * K\n",
    "\n",
    "#latent params\n",
    "q_pi_param = np.zeros((epochs, K))\n",
    "q_tau_param = np.zeros((epochs, K, 2))\n",
    "q_mu_param = np.zeros((epochs, K, 2))\n",
    "\n",
    "# Perform optimization; note how few iterations are enough here\n",
    "def get_latent_z(q_pi, q_tau_param, q_mu, x):\n",
    "  alphas_sum = np.array(q_pi.alpha).sum()\n",
    "  result = np.zeros((N, K))\n",
    "  for n in range (0, N):\n",
    "    for k in range (0, K): #TODO np.exp\n",
    "      result[n, k] = np.exp(digamma(q_pi.alpha[k]) - digamma(alphas_sum) + 0.5 * (digamma(q_tau_param[k, 0]) - np.log(q_tau_param[k, 1])) \\\n",
    "                       -0.5 * q_tau_param[k, 0] / q_tau_param[k, 1] * (x[n]**2 + 2*x[n]*q_mu[k].mean() + q_mu[k].mean()**2 + q_mu[k].var()))\n",
    "  for n in range (0, N):\n",
    "      result[n] = result[n] / result[n].sum()\n",
    "  return result\n",
    "\n",
    "#epsilon = get_latent_z(q_pi, np.array([alpha_0, beta_0]).reshape(K, 2), q_mu, x)"
   ]
  },
  {
   "cell_type": "code",
   "execution_count": 71,
   "metadata": {
    "colab": {
     "base_uri": "https://localhost:8080/"
    },
    "id": "1D17K9FTu1Jq",
    "outputId": "dc3654b6-c402-4340-c977-53b276cd96f5"
   },
   "outputs": [
    {
     "name": "stdout",
     "output_type": "stream",
     "text": [
      " Time passed for the Mixture model:  5.397643619000064\n"
     ]
    }
   ],
   "source": [
    "tic = time.perf_counter()\n",
    "for iter in range(epochs):\n",
    "    #for each k model\n",
    "    for k in range (0, K):\n",
    "      \n",
    "      epsilon_k = epsilon[:, k]\n",
    "      epsilon_k_sum = epsilon_k.sum()\n",
    "      epsilon_k_X = (epsilon_k * x).sum()\n",
    "      \n",
    "      # pi dirichlet latent update\n",
    "      q_pi_param[iter, k] = alpha[k] + epsilon_k_sum\n",
    "\n",
    "      # tau gamma latent update\n",
    "      # param gamma a\n",
    "      q_tau_param[iter, k, 0] =  alpha_0[k] + 0.5 * epsilon_k_sum\n",
    "      # param gamma b\n",
    "      E_mu = q_mu[k].mean()\n",
    "      E_mu_var = q_mu[k].var()\n",
    "      q_tau_param[iter, k, 1] = beta_0[k] + 0.5 *  np.sum(epsilon_k * (x** 2 - 2*x*E_mu + E_mu**2 +  E_mu_var))\n",
    "      q_tau[k] = stats.gamma(q_tau_param[iter, k, 0], scale= 1.0/q_tau_param[iter, k, 1])\n",
    "\n",
    "\n",
    "      # mu normal latent update\n",
    "      # param normal prec - tau_0\n",
    "      E_tau = q_tau[k].mean()\n",
    "      q_mu_param[iter, k, 1] =  tau_0[k] + E_tau * epsilon_k_sum #HERE 1.0/tau_0[k]**2 \n",
    "      # param normal mu\n",
    "      q_mu_param[iter, k, 0] = E_tau * epsilon_k_X / q_mu_param[iter, k, 1]\n",
    "      q_mu[k] = stats.norm(q_mu_param[iter, k, 0], scale=1.0/np.sqrt(q_mu_param[iter, k, 1]))\n",
    "\n",
    "    # # pi dirichlet latent update\n",
    "    q_pi = stats.dirichlet(q_pi_param[iter, ])\n",
    "\n",
    "    # z categorical latent update\n",
    "    epsilon = get_latent_z(q_pi, q_tau_param[iter], q_mu, x)\n",
    "\n",
    "toc = time.perf_counter()\n",
    "final_pred = np.zeros((N, K))\n",
    "classes = np.argmax(epsilon, axis=1)\n",
    "for i in range(0, N):\n",
    "  final_pred[i, classes[i]] = 1.\n",
    "\n",
    "print(\" Time passed for the Mixture model: \", toc-tic)"
   ]
  },
  {
   "cell_type": "code",
   "execution_count": 72,
   "metadata": {
    "colab": {
     "base_uri": "https://localhost:8080/",
     "height": 265
    },
    "id": "qISMV9jEYmoy",
    "outputId": "dadc3d45-18bc-478c-ab5f-c2c70f98034b"
   },
   "outputs": [
    {
     "data": {
      "image/png": "[encoded data removed]",
      "text/plain": [
       "<Figure size 432x288 with 2 Axes>"
      ]
     },
     "metadata": {
      "needs_background": "light"
     },
     "output_type": "display_data"
    }
   ],
   "source": [
    "colors = ['r', 'g', 'b']\n",
    "\n",
    "plt.subplot(1, 2, 1)\n",
    "for k in range(3):\n",
    "  plt.hist(x[final_pred[:, k] ==1], color=colors[k], bins=np.linspace(-4., 4., 50), alpha = 0.5)\n",
    "\n",
    "plt.subplot(1, 2, 2)\n",
    "for k in range(3):\n",
    "  x[z_true[:,k] == 1 ] = stats.norm(mu_true[k], 1./np.sqrt(tau_true[k])).rvs(sum(z_true[:, k]))\n",
    "  plt.hist(x[z_true[:, k] ==1], color=colors[k], bins=np.linspace(-4., 4., 50), alpha = 0.5)"
   ]
  },
  {
   "cell_type": "markdown",
   "metadata": {
    "id": "EBKrlJiSH1dm"
   },
   "source": [
    "The code present some errors. The result differs from the expected one.\n",
    "Most probably there some mistakes in the **code** update rules, even though the analytical derivations should be correct. <br/> Otherwise it could be the initialization of the latent variable $\\xi$ (in the code is called epsilon) which present the probabilities for each sample to the K-th distribution.\n"
   ]
  },
  {
   "cell_type": "code",
   "execution_count": 57,
   "metadata": {
    "colab": {
     "base_uri": "https://localhost:8080/"
    },
    "id": "0B1A5ppWOec3",
    "outputId": "26654597-216f-45df-b1c3-77a94fc7bde5"
   },
   "outputs": [
    {
     "name": "stdout",
     "output_type": "stream",
     "text": [
      "Pi params:  [170.88450786 160.53499015 171.58050199]\n",
      "Tau params: \n",
      "  [ 85.44225393 149.82264633]\n",
      "  [ 80.26749508 142.72415079]\n",
      "  [ 85.79025099 149.8642945 ]\n",
      "Mu params: \n",
      "  [  0.37767276 100.88331915]\n",
      "  [ 0.33483763 93.72184431]\n",
      "  [  0.39982889 101.64930419]\n"
     ]
    }
   ],
   "source": [
    "print(\"Pi params: \", q_pi_param[-1])\n",
    "print(\"Tau params: \")\n",
    "for i in range(0, K):\n",
    "  print(\" \", q_tau_param[-1, i])\n",
    "\n",
    "print(\"Mu params: \")\n",
    "for i in range(0, K):\n",
    "  print(\" \", q_mu_param[-1, i])"
   ]
  }
 ],
 "metadata": {
  "colab": {
   "collapsed_sections": [],
   "name": "Exercise 03.ipynb",
   "provenance": []
  },
  "kernelspec": {
   "display_name": "Python 3",
   "language": "python",
   "name": "python3"
  },
  "language_info": {
   "codemirror_mode": {
    "name": "ipython",
    "version": 3
   },
   "file_extension": ".py",
   "mimetype": "text/x-python",
   "name": "python",
   "nbconvert_exporter": "python",
   "pygments_lexer": "ipython3",
   "version": "3.8.8"
  }
 },
 "nbformat": 4,
 "nbformat_minor": 1
}
