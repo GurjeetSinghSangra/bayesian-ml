{
 "cells": [
  {
   "cell_type": "markdown",
   "metadata": {},
   "source": [
    "Author: Gurjeet Singh (gurjeet.singh@helsinki.fi)\n",
    "\n",
    "\n",
    "# Distributional approximations for Poisson-gamma\n",
    "\n",
    "$$x_n \\sim Poisson(uv), \\quad u \\sim Gamma(5, 1), \\quad v \\sim Gamma(4,4)$$\n",
    "\n",
    "$x_n$ are conditionally independent of each other\n",
    "\n",
    "The joint log probability is: \n",
    "\n",
    "$$ \\log p(X,u,v) = \\sum_i \\left [ x_i \\log u + x_i \\log v - uv - \\log x_i! \\right ] \\\\\n",
    "\\quad\\quad\\quad + \\alpha_u \\log \\beta_u - \\log \\Gamma(\\alpha_u) + (\\alpha_u - 1)\\log u - \\beta_u u \\\\\n",
    "\\quad\\quad\\quad + \\alpha_v \\log \\beta_v - \\log \\Gamma(\\alpha_v) + (\\alpha_v - 1)\\log v - \\beta_v v $$"
   ]
  },
  {
   "cell_type": "markdown",
   "metadata": {},
   "source": [
    "## Laplace approximation\n",
    "\n",
    "$$ \\frac{d\\; log p(X, u,v)}{du^2 } = \\sum_{i} \\left( -\\frac{x_i}{u^2} \\right) - \\frac{4}{u^2} \\\\\n",
    " \\frac{d\\; log p(X, u,v)}{duv } = -1 \\\\\n",
    " \\frac{d\\; log p(X, u,v)}{dv^2 } = \\sum_{i} \\left( -\\frac{x_i}{v^2} \\right) - \\frac{3}{v^2} \\\\\n",
    " \\frac{d\\; log p(X, u,v)}{dvu } = -1 $$\n",
    "\n",
    "After estimating the $v$ and $u$ we calculate the negative hessian with the estimated values from MAP.\n",
    "\n",
    "$$ -\\mathcal{H} =  \n",
    "\\begin{bmatrix} \n",
    "\\sum_{i} \\left( -\\frac{x_i}{u^2} \\right) - \\frac{4}{u^2}  & - 1 \\\\\n",
    "    -1 &  \\sum_{i} \\left( -\\frac{x_i}{v^2} \\right) - \\frac{3}{v^2}\n",
    "\\end{bmatrix}$$"
   ]
  },
  {
   "cell_type": "code",
   "execution_count": 13,
   "metadata": {},
   "outputs": [],
   "source": [
    "import numpy as np\n",
    "import scipy.stats as stats\n",
    "import matplotlib.pyplot as plt\n",
    "import torch\n",
    "import torch.distributions as dist\n",
    "import os\n",
    "os.environ['KMP_DUPLICATE_LIB_OK']='True'\n",
    "\n",
    "# Define the same model as for MCMC\n",
    "prior_u_alpha, prior_u_beta = (5., 1.)\n",
    "prior_v_alpha, prior_v_beta = (4., 4.)\n",
    "\n",
    "u_prior = dist.gamma.Gamma(torch.tensor([prior_u_alpha]), torch.tensor([prior_u_alpha]))\n",
    "v_prior = dist.gamma.Gamma(torch.tensor([prior_v_alpha]), torch.tensor([prior_v_alpha]))\n",
    "\n",
    "# Re-use same data\n",
    "x = torch.tensor([3, 4, 3, 9, 10, 3, 2, 3, 3, 2])\n",
    "\n",
    "def log_posterior(data, u, v):\n",
    "    likelihood = dist.Poisson(u*v)\n",
    "    return torch.sum(likelihood.log_prob(data)) + u_prior.log_prob(u) + v_prior.log_prob(v)"
   ]
  },
  {
   "cell_type": "code",
   "execution_count": 14,
   "metadata": {},
   "outputs": [
    {
     "name": "stdout",
     "output_type": "stream",
     "text": [
      "MAP estimate for u:  1.8321257829666138\n",
      "MAP estimate for v:  2.0133473873138428\n",
      "Precision of the approximation:  tensor([[13.4991,  1.0000],\n",
      "        [ 1.0000, 11.2550]])\n",
      "Gibbs samples run\n",
      " mean u:  2.764848283157184\n",
      " variance u:  1.768560052221295\n",
      " mean v:  1.9600108864883854\n",
      " variance v:  0.9375711619813163\n"
     ]
    }
   ],
   "source": [
    "# First find the best point estimate, parameterizing precision in log-domain\n",
    "u = torch.nn.Parameter(torch.as_tensor(3.0))\n",
    "v = torch.nn.Parameter(torch.as_tensor(.5))\n",
    "\n",
    "optimizer = torch.optim.SGD({u, v}, lr=1e-3)\n",
    "for iter in range(2000):\n",
    "    loss = -log_posterior(x, u, v)\n",
    "    optimizer.zero_grad()\n",
    "    loss.backward()\n",
    "    optimizer.step()\n",
    "    \n",
    "print(\"MAP estimate for u: \", u.item())\n",
    "print(\"MAP estimate for v: \", v.item())\n",
    "\n",
    "def lossForHessian(param):\n",
    "    return -log_posterior(x, param[0], param[1])\n",
    "\n",
    "#negative Hessian\n",
    "def get_hessian(x, param):\n",
    "    u = param[0]\n",
    "    v = param[1]\n",
    "    return torch.tensor([[torch.sum(x / u.pow(2)) + 4./v.pow(2), 1.],\n",
    "                  [1., torch.sum(x / v.pow(2)) + 3./u.pow(2)]])\n",
    "    \n",
    "    \n",
    "param = torch.tensor([u.item(), v.item()])\n",
    "H = get_hessian(x, param)\n",
    "print(\"Precision of the approximation: \", H)\n",
    "\n",
    "# Form the actual approximation\n",
    "laplace = dist.multivariate_normal.MultivariateNormal(torch.tensor([u, v]), precision_matrix=H)\n",
    "laplace_u = dist.normal.Normal(u, scale=1.0/torch.sqrt(H[0,0]))\n",
    "laplace_v = dist.normal.Normal(v, scale=1.0/torch.sqrt(H[1,1]))\n",
    "\n",
    "\n",
    "def Gibbs(x, u, v, T):\n",
    "    # Storage for samples\n",
    "    samples = [u, v]\n",
    "    sumx = sum(x)\n",
    "    N = len(x)\n",
    "    for t in range(T):\n",
    "        # Sample u conditional on v and data\n",
    "        log_lambda_term = sumx + prior_u_alpha\n",
    "        lambda_term = N*v + prior_u_beta\n",
    "        u = np.random.gamma(log_lambda_term, scale = 1.0 / lambda_term)\n",
    "        \n",
    "        # Sample v conditional on u and data\n",
    "        log_lambda_term = sumx + prior_v_alpha\n",
    "        lambda_term = N*u + prior_u_beta\n",
    "        v = np.random.gamma(log_lambda_term, scale = 1.0 / lambda_term)\n",
    "\n",
    "        samples = np.vstack([samples, [u, v]])\n",
    "    return samples\n",
    "\n",
    "print(\"Gibbs samples run\")\n",
    "gibbs_samples = Gibbs(x, 3.0, 0.5, 5500)\n",
    "\n",
    "print(\" mean u: \", np.mean(gibbs_samples[500:,0]))\n",
    "print(\" variance u: \", np.var(gibbs_samples[500:,0]))\n",
    "print(\" mean v: \", np.mean(gibbs_samples[500:,1]))\n",
    "print(\" variance v: \", np.var(gibbs_samples[500:,1]))"
   ]
  },
  {
   "cell_type": "code",
   "execution_count": 15,
   "metadata": {},
   "outputs": [],
   "source": [
    "#param = torch.tensor([u.item(), v.item()])\n",
    "#H = torch.autograd.functional.hessian(lossForHessian, param)\n",
    "#H"
   ]
  },
  {
   "cell_type": "code",
   "execution_count": 20,
   "metadata": {},
   "outputs": [
    {
     "data": {
      "image/png": "[encoded data removed]",
      "text/plain": [
       "<Figure size 432x288 with 1 Axes>"
      ]
     },
     "metadata": {
      "needs_background": "light"
     },
     "output_type": "display_data"
    },
    {
     "data": {
      "image/png": "[encoded data removed]",
      "text/plain": [
       "<Figure size 432x288 with 1 Axes>"
      ]
     },
     "metadata": {
      "needs_background": "light"
     },
     "output_type": "display_data"
    }
   ],
   "source": [
    "# Marginal distribution for u\n",
    "ind = torch.tensor(np.arange(-0.5, 8.0, 0.01),dtype=torch.double)\n",
    "plt.hist(gibbs_samples[1000:,0], bins=20, density=True)\n",
    "plt.plot(ind, torch.exp(laplace_u.log_prob(ind)).detach())\n",
    "plt.title(\"Marginal distribution of mean\")\n",
    "plt.show()\n",
    "\n",
    "# Marginal distribution for v\n",
    "ind = torch.tensor(np.log(np.arange(0.5, 20, 0.01)),dtype=torch.double)\n",
    "plt.hist(gibbs_samples[1000:,1], bins=20, density=True)\n",
    "plt.plot(ind, torch.exp(laplace_v.log_prob(ind)).detach())\n",
    "plt.title(\"Marginal distribution of log-precision\")\n",
    "plt.show()"
   ]
  },
  {
   "cell_type": "markdown",
   "metadata": {},
   "source": [
    "**Plot the marginals of the posterior approximation to see how well it works. You can compare the result\n",
    "against the MCMC results obtained last time – is this a good approximation?**"
   ]
  },
  {
   "cell_type": "markdown",
   "metadata": {},
   "source": [
    "## Mean-field variational Approximation"
   ]
  },
  {
   "cell_type": "code",
   "execution_count": 22,
   "metadata": {},
   "outputs": [],
   "source": [
    "import scipy.special\n",
    "\n",
    "# Reuse the same data\n",
    "if(isinstance(x, torch.Tensor)):\n",
    "    x = x.numpy()\n",
    "\n",
    "# Priors\n",
    "u_prior = stats.gamma(prior_u_alpha, scale=1./prior_u_beta)\n",
    "v_prior = stats.gamma(prior_v_alpha, scale=1./prior_v_beta)\n",
    "    \n",
    "# Define the model again in numpy\n",
    "#mean_prior = stats.norm(prior_mu, prior_sigma)\n",
    "#prec_prior = stats.gamma(prior_alpha, scale=1.0/prior_beta)\n",
    "\n",
    "def log_posterior(data, u, v):\n",
    "    likelihood = stats.poisson(u*v)\n",
    "    return np.sum(likelihood.logpmf(data)) + u_prior.logpdf(u) + v_prior.logpdf(v)\n",
    "\n",
    "# Definte the approximation\n",
    "# Assume factorized q(u,v) = q(u|a,b) q(sigma|a',b') (gamma and gamma)\n",
    "q_u_param = [1.0, 0.5]\n",
    "q_v_param = [1.0, 1.0]\n",
    "q_u = stats.gamma(q_u_param[0], scale=1.0/q_u_param[1]) \n",
    "q_v = stats.gamma(q_v_param[0], scale=1.0/q_v_param[1])\n",
    "\n",
    "# Perform optimization; note how few iterations are enough here\n",
    "for iter in range(100):\n",
    "    ### Update q_u\n",
    "    # Compute required expectations\n",
    "    E_qv = q_v.mean()\n",
    "    # If we were to implement the ELBO, we would also need the following expectation that is not\n",
    "    # implemented in scipy.stats\n",
    "    #E_log_prec = np.log(q_prec_param[1]) + scipy.special.digamma(q_prec_param[0])\n",
    "    \n",
    "    # Update the parameters\n",
    "    x_sum = x.sum()\n",
    "    lenx = len(x)\n",
    "    \n",
    "    q_u_param[0] = 5 + x_sum\n",
    "    q_u_param[1] = lenx * E_qv\n",
    "    q_u = stats.gamma(q_a_param[0], scale=1.0/q_u_param[1])\n",
    "    \n",
    "    ### Update q_v\n",
    "    # Compute required expectations\n",
    "    E_qu = q_u.mean()\n",
    "    \n",
    "    # Update the parameters\n",
    "    q_v_param[0] = 4 + x_sum\n",
    "    q_v_param[1] = lenx * E_qu\n",
    "    q_v = stats.gamma(q_v_param[0], scale=1.0/q_v_param[1])\n",
    "    # Here we could (and should) evaluate the objective -- try implementing it!"
   ]
  },
  {
   "cell_type": "code",
   "execution_count": 23,
   "metadata": {},
   "outputs": [
    {
     "name": "stdout",
     "output_type": "stream",
     "text": [
      "Parameters of q_u:  [47, 4.10228034742467e+165]\n",
      "Parameters of q_v:  [46, 2.437668602117308e-165]\n"
     ]
    },
    {
     "data": {
      "image/png": "[encoded data removed]",
      "text/plain": [
       "<Figure size 432x288 with 1 Axes>"
      ]
     },
     "metadata": {
      "needs_background": "light"
     },
     "output_type": "display_data"
    },
    {
     "name": "stderr",
     "output_type": "stream",
     "text": [
      "<ipython-input-23-b876f51d70ef>:12: RuntimeWarning: invalid value encountered in log\n",
      "  ind = np.log(np.arange(-0.5, 20, 0.01))\n"
     ]
    },
    {
     "data": {
      "image/png": "[encoded data removed]",
      "text/plain": [
       "<Figure size 432x288 with 1 Axes>"
      ]
     },
     "metadata": {
      "needs_background": "light"
     },
     "output_type": "display_data"
    }
   ],
   "source": [
    "print(\"Parameters of q_u: \", q_u_param)\n",
    "print(\"Parameters of q_v: \", q_v_param)\n",
    "\n",
    "# Marginal distribution for mu\n",
    "ind = np.arange(-0.5, 8.0, 0.01)\n",
    "plt.hist(gibbs_samples[1000:,0], bins=20, density=True)\n",
    "plt.plot(ind, np.exp(q_u.logpdf(ind)))\n",
    "plt.title(\"Marginal distribution of u\")\n",
    "plt.show()\n",
    "\n",
    "# Marginal distribution for prec\n",
    "ind = np.log(np.arange(-0.5, 20, 0.01))\n",
    "plt.hist(gibbs_samples[1000:,1], bins=20, density=True)\n",
    "plt.plot(ind, np.exp(q_u.logpdf(ind)))\n",
    "plt.title(\"Marginal distribution of precision\")\n",
    "plt.show()"
   ]
  },
  {
   "cell_type": "code",
   "execution_count": null,
   "metadata": {},
   "outputs": [],
   "source": []
  }
 ],
 "metadata": {
  "kernelspec": {
   "display_name": "Python 3",
   "language": "python",
   "name": "python3"
  },
  "language_info": {
   "codemirror_mode": {
    "name": "ipython",
    "version": 3
   },
   "file_extension": ".py",
   "mimetype": "text/x-python",
   "name": "python",
   "nbconvert_exporter": "python",
   "pygments_lexer": "ipython3",
   "version": "3.8.8"
  }
 },
 "nbformat": 4,
 "nbformat_minor": 4
}
