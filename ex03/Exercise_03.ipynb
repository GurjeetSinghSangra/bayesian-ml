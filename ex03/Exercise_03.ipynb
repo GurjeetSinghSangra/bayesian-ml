{
  "cells": [
    {
      "cell_type": "markdown",
      "metadata": {
        "id": "oNh6Tglxe-49"
      },
      "source": [
        "Author: Gurjeet Singh (gurjeet.singh@helsinki.fi)\n",
        "\n",
        "\n",
        "# Distributional approximations for Poisson-gamma\n",
        "\n",
        "$$x_n \\sim Poisson(uv), \\quad u \\sim Gamma(5, 1), \\quad v \\sim Gamma(4,4)$$\n",
        "\n",
        "$x_n$ are conditionally independent of each other\n",
        "\n",
        "The joint log probability is: \n",
        "\n",
        "$$ \\log p(X,u,v) = \\sum_i \\left [ x_i \\log u + x_i \\log v - uv - \\log x_i! \\right ] $$ \n",
        "$$\\quad\\quad\\quad + \\alpha_u \\log \\beta_u - \\log \\Gamma(\\alpha_u) + (\\alpha_u - 1)\\log u - \\beta_u u $$\n",
        "$$\\quad\\quad\\quad + \\alpha_v \\log \\beta_v - \\log \\Gamma(\\alpha_v) + (\\alpha_v - 1)\\log v - \\beta_v v $$"
      ]
    },
    {
      "cell_type": "markdown",
      "metadata": {
        "id": "5mAvE0BJe-5G"
      },
      "source": [
        "## Laplace approximation\n",
        "\n",
        "$$ \\frac{d\\; log p(X, u,v)}{du^2 } = \\sum_{i} \\left( -\\frac{x_i}{u^2} \\right) - \\frac{4}{u^2} $$\n",
        "$$ \\frac{d\\; log p(X, u,v)}{duv } = -N $$\n",
        "$$ \\frac{d\\; log p(X, u,v)}{dv^2 } = \\sum_{i} \\left( -\\frac{x_i}{v^2} \\right) - \\frac{3}{v^2} $$\n",
        "$$\\frac{d\\; log p(X, u,v)}{dvu } = -N $$\n",
        "\n",
        "After estimating the $v$ and $u$ we calculate the negative hessian with the estimated values from MAP.\n",
        "\n",
        "$$ -\\mathcal{H} =  \n",
        "\\begin{bmatrix} \n",
        "\\sum_{i} \\left( \\frac{x_i}{u^2} \\right) + \\frac{4}{u^2}  & N \\\\\n",
        "    N &  \\sum_{i} \\left( \\frac{x_i}{v^2} \\right)  \\frac{3}{v^2}\n",
        "\\end{bmatrix}$$"
      ]
    },
    {
      "cell_type": "code",
      "execution_count": 186,
      "metadata": {
        "id": "gN-RXCIwe-5I"
      },
      "outputs": [],
      "source": [
        "import numpy as np\n",
        "import scipy.stats as stats\n",
        "import matplotlib.pyplot as plt\n",
        "import torch\n",
        "import torch.distributions as dist\n",
        "import os\n",
        "import time\n",
        "os.environ['KMP_DUPLICATE_LIB_OK']='True'\n",
        "\n",
        "\n",
        "np.random.seed(13)\n",
        "# Define the same model as for MCMC\n",
        "prior_u_alpha, prior_u_beta = (5., 1.)\n",
        "prior_v_alpha, prior_v_beta = (4., 4.)\n",
        "\n",
        "u_prior = dist.gamma.Gamma(torch.tensor([prior_u_alpha]), torch.tensor([prior_u_alpha]))\n",
        "v_prior = dist.gamma.Gamma(torch.tensor([prior_v_alpha]), torch.tensor([prior_v_alpha]))\n",
        "\n",
        "# Re-use same data\n",
        "x = torch.tensor([3, 4, 3, 9, 10, 3, 2, 3, 3, 2])\n",
        "N=10\n",
        "\n",
        "def log_posterior(data, u, v):\n",
        "    likelihood = dist.Poisson(u*v)\n",
        "    return torch.sum(likelihood.log_prob(data)) + u_prior.log_prob(u) + v_prior.log_prob(v)\n"
      ]
    },
    {
      "cell_type": "code",
      "execution_count": 2,
      "metadata": {
        "colab": {
          "base_uri": "https://localhost:8080/"
        },
        "id": "-ONFvazEe-5O",
        "outputId": "13ebfc90-4ca8-4779-f59b-d82312cf4487"
      },
      "outputs": [
        {
          "output_type": "stream",
          "name": "stdout",
          "text": [
            "MAP estimate for u:\n",
            " mean :  2.6992931\n",
            " std :  0.35852754\n",
            "MAP estimate for v: \n",
            " mean :  1.4088619\n",
            " std :  0.21530743\n",
            " Time passed for the Laplace Approximation method:  1.001434488000001\n",
            "Gibbs samples run\n",
            " mean u:  2.8247328054222303\n",
            " variance u:  1.6605064866648005\n",
            " mean v:  1.888846281720226\n",
            " variance v:  0.828563344987273\n",
            " Time passed for the Gibbs sampler:  0.4460651169999963\n"
          ]
        }
      ],
      "source": [
        "# First find the best point estimate, parameterizing precision in log-domain\n",
        "u = torch.nn.Parameter(torch.as_tensor(3.0))\n",
        "v = torch.nn.Parameter(torch.as_tensor(.5))\n",
        "\n",
        "tic = time.perf_counter()\n",
        "optimizer = torch.optim.SGD({u, v}, lr=1e-3)\n",
        "for iter in range(200):\n",
        "    loss = -log_posterior(x, u, v)\n",
        "    optimizer.zero_grad()\n",
        "    loss.backward()\n",
        "    optimizer.step()\n",
        "\n",
        "def lossForHessian(param):\n",
        "    return -log_posterior(x, param[0], param[1])\n",
        "\n",
        "#negative Hessian\n",
        "def get_hessian(x, param):\n",
        "    u = param[0]\n",
        "    v = param[1]\n",
        "    return torch.tensor([[torch.sum(x / u.pow(2)) + 4./v.pow(2), N],\n",
        "                  [N , torch.sum(x / v.pow(2)) + 3./u.pow(2)]])\n",
        "    \n",
        "    \n",
        "param = torch.tensor([u.item(), v.item()])\n",
        "H = get_hessian(x, param)\n",
        "\n",
        "# Form the actual approximation\n",
        "laplace = dist.multivariate_normal.MultivariateNormal(torch.tensor([u, v]), precision_matrix=H)\n",
        "laplace_u = dist.normal.Normal(u, scale=1.0/torch.sqrt(H[0,0]))\n",
        "laplace_v = dist.normal.Normal(v, scale=1.0/torch.sqrt(H[1,1]))\n",
        "\n",
        "toc = time.perf_counter()\n",
        "print(\"MAP estimate for u:\",)\n",
        "print(\" mean : \", laplace_u.mean.detach().numpy())\n",
        "print(\" std : \", laplace_u.scale.detach().numpy())\n",
        "print(\"MAP estimate for v: \", )\n",
        "print(\" mean : \", laplace_v.mean.detach().numpy())\n",
        "print(\" std : \", laplace_v.scale.detach().numpy())\n",
        "\n",
        "print(\" Time passed for the Laplace Approximation method: \", toc-tic)\n",
        "def Gibbs(x, u, v, T):\n",
        "    # Storage for samples\n",
        "    samples = [u, v]\n",
        "    sumx = sum(x)\n",
        "    N = len(x)\n",
        "    for t in range(T):\n",
        "        # Sample u conditional on v and data\n",
        "        log_lambda_term = sumx + prior_u_alpha\n",
        "        lambda_term = N*v + prior_u_beta\n",
        "        u = np.random.gamma(log_lambda_term, scale = 1.0 / lambda_term)\n",
        "        \n",
        "        # Sample v conditional on u and data\n",
        "        log_lambda_term = sumx + prior_v_alpha\n",
        "        lambda_term = N*u + prior_u_beta\n",
        "        v = np.random.gamma(log_lambda_term, scale = 1.0 / lambda_term)\n",
        "\n",
        "        samples = np.vstack([samples, [u, v]])\n",
        "    return samples\n",
        "\n",
        "print(\"Gibbs samples run\")\n",
        "\n",
        "tic = time.perf_counter()\n",
        "gibbs_samples = Gibbs(x, 3.0, 0.5, 2000)\n",
        "toc = time.perf_counter()\n",
        "\n",
        "print(\" mean u: \", np.mean(gibbs_samples[500:,0]))\n",
        "print(\" variance u: \", np.var(gibbs_samples[500:,0]))\n",
        "print(\" mean v: \", np.mean(gibbs_samples[500:,1]))\n",
        "print(\" variance v: \", np.var(gibbs_samples[500:,1]))\n",
        "print(\" Time passed for the Gibbs sampler: \", toc-tic)"
      ]
    },
    {
      "cell_type": "code",
      "execution_count": 3,
      "metadata": {
        "colab": {
          "base_uri": "https://localhost:8080/",
          "height": 545
        },
        "id": "jum5UjqUe-5T",
        "outputId": "c9e0563c-6b93-4143-ec15-a7caa317ace9"
      },
      "outputs": [
        {
          "output_type": "display_data",
          "data": {
            "image/png": "[encoded data removed]",
            "text/plain": [
              "<Figure size 432x288 with 1 Axes>"
            ]
          },
          "metadata": {
            "needs_background": "light"
          }
        },
        {
          "output_type": "display_data",
          "data": {
            "image/png": "[encoded data removed]",
            "text/plain": [
              "<Figure size 432x288 with 1 Axes>"
            ]
          },
          "metadata": {
            "needs_background": "light"
          }
        }
      ],
      "source": [
        "# Marginal distribution for u\n",
        "ind = torch.tensor(np.arange(-0.5, 8.0, 0.01),dtype=torch.double)\n",
        "plt.hist(gibbs_samples[1000:,0], bins=20, density=True)\n",
        "plt.plot(ind, torch.exp(laplace_u.log_prob(ind)).detach())\n",
        "plt.title(\"Marginal distribution of u\")\n",
        "plt.show()\n",
        "\n",
        "# Marginal distribution for v\n",
        "ind = torch.tensor(np.arange(-0.5, 8, 0.01),dtype=torch.double)\n",
        "plt.hist(gibbs_samples[1000:,1], bins=20, density=True)\n",
        "plt.plot(ind, torch.exp(laplace_v.log_prob(ind)).detach())\n",
        "plt.title(\"Marginal distribution of v\")\n",
        "plt.show()"
      ]
    },
    {
      "cell_type": "markdown",
      "metadata": {
        "id": "Fs77OzxAe-5U"
      },
      "source": [
        "From the plot above we can see that the Laplace approximation is able to capture approximately the distribution of the data. The marginals distritbution show a good summary of the estimated parameter, indeed they quantify the uncertainty quite close to the mean, close to the gibbs sampler estimation.\n",
        "In addition it requires less iterations to achieve the final result. However, the Laplace approximation method takes more computational time for the same amount of iterations used with the Gibbs sampler."
      ]
    },
    {
      "cell_type": "markdown",
      "metadata": {
        "id": "O4wEtDz4e-5V"
      },
      "source": [
        "## Mean-field variational Approximation\n",
        "$$\n",
        "q(u,v \\vert \\lambda) \\approx q(u \\vert a, b) \\; q(v \\vert c, d) $$\n",
        "$$ q_u \\approx \\exp \\left(\\mathbf{E}_{q_v}\\left[ log(q(u \\vert v, X) \\right]\\right), \\quad q_v \\approx \\exp \\left(\\mathbf{E}_{q_u}\\left[ log(q(v \\vert u, X) \\right]\\right) $$\n",
        "$$\\mathbf{E}_{q_v}\\left[ log(q(u \\vert v, X) \\right] = C + \\left( \\left( \\alpha_u + \\sum_i x_i \\right) -1 \\right) log(u) - \\left( \\mathbf{E}_{q_v} \\left[nv \\right] + \\beta_u\\right) u $$\n",
        "$$\\mathbf{E}_{q_v} \\left[nv \\right] = \\frac{c}{d} $$\n",
        "$$\\mathbf{E}_{q_v}\\left[ log(q(u \\vert v, X) \\right] \\sim Gamma(\\alpha_u + \\sum_i x_i,\\; N \\frac{c}{d} + \\beta_u)$$\n",
        "$$\\mathbf{E}_{q_u}\\left[ log(q(v \\vert u, X) \\right] = C + \\left( \\left( \\alpha_v + \\sum_i x_i \\right) -1 \\right) log(v) - \\left( \\mathbf{E}_{q_u} \\left[nu \\right] + \\beta_v\\right) v$$\n",
        "$$\\mathbf{E}_{q_u} \\left[nu \\right] = \\frac{a}{b} $$\n",
        "$$\\mathbf{E}_{q_v}\\left[ log(q(v \\vert u, X) \\right] \\sim Gamma(\\alpha_v + \\sum_i x_i,\\; N \\;\\frac{a}{b} + \\beta_v)\n",
        "$$"
      ]
    },
    {
      "cell_type": "code",
      "execution_count": 4,
      "metadata": {
        "id": "ldeVxgcqe-5X"
      },
      "outputs": [],
      "source": [
        "from scipy.special import digamma\n",
        "\n",
        "# Reuse the same data\n",
        "if(isinstance(x, torch.Tensor)):\n",
        "    x = x.numpy()\n",
        "\n",
        "# Define the same model as for MCMC\n",
        "prior_u_alpha, prior_u_beta = (5., 1.)\n",
        "prior_v_alpha, prior_v_beta = (4., 4.)\n",
        "\n",
        "# Priors\n",
        "u_prior = stats.gamma(prior_u_alpha, scale=1./prior_u_beta)\n",
        "v_prior = stats.gamma(prior_v_alpha, scale=1./prior_v_beta)\n",
        "    \n",
        "# Define the model again in numpy\n",
        "#mean_prior = stats.norm(prior_mu, prior_sigma)\n",
        "#prec_prior = stats.gamma(prior_alpha, scale=1.0/prior_beta)\n",
        "\n",
        "def log_posterior(data, u, v):\n",
        "    likelihood = stats.poisson(u*v)\n",
        "    return np.sum(likelihood.logpmf(data)) + u_prior.logpdf(u) + v_prior.logpdf(v)\n",
        "\n",
        "# Definte the approximation\n",
        "q_u_param = [prior_u_alpha + x.sum(), 1.0]\n",
        "q_v_param = [prior_v_alpha + x.sum(), 4.0]\n",
        "q_u = stats.gamma(q_u_param[0], scale=1.0/q_u_param[1]) \n",
        "q_v = stats.gamma(q_v_param[0], scale=1.0/q_v_param[1])\n",
        "\n",
        "tic = time.perf_counter()\n",
        "for iter in range(10):\n",
        "    # Update q_u\n",
        "    E_qv = q_v.mean()\n",
        "    # Update the parameters\n",
        "    x_sum = x.sum()\n",
        "    lenx = len(x)\n",
        "    \n",
        "    q_u_param[0] = prior_u_alpha + x_sum\n",
        "    q_u_param[1] = lenx * E_qv + prior_u_beta\n",
        "    q_u = stats.gamma(q_u_param[0], scale=1.0/q_u_param[1])\n",
        "    \n",
        "    ### Update q_v\n",
        "    # Compute required expectations\n",
        "    E_qu = q_u.mean()\n",
        "    \n",
        "    # Update the parameters\n",
        "    q_v_param[0] = prior_v_alpha + x_sum\n",
        "    q_v_param[1] = lenx * E_qu + prior_v_beta\n",
        "    q_v = stats.gamma(q_v_param[0], scale=1.0/q_v_param[1])\n",
        "    # Here we could (and should) evaluate the objective -- try implementing it!\n",
        "toc = time.perf_counter()"
      ]
    },
    {
      "cell_type": "code",
      "execution_count": 5,
      "metadata": {
        "colab": {
          "base_uri": "https://localhost:8080/",
          "height": 687
        },
        "id": "eeVw79mTe-5Y",
        "outputId": "7bd65016-a334-43dd-b3c1-8148087b1e5b"
      },
      "outputs": [
        {
          "output_type": "stream",
          "name": "stdout",
          "text": [
            "Parameters of q_u:  [47.0, 14.090446157973092]\n",
            " Mean: 3.3355934562373672\n",
            " Std: 0.48654631113449626\n",
            "Parameters of q_v:  [46.0, 37.355934562373676]\n",
            " Mean: 1.2313973814038361\n",
            " Std: 0.18155963871819955\n",
            " Time passed for the Mean-field variational approximation:  0.22929040000000356\n",
            "\n"
          ]
        },
        {
          "output_type": "display_data",
          "data": {
            "image/png": "[encoded data removed]",
            "text/plain": [
              "<Figure size 432x288 with 1 Axes>"
            ]
          },
          "metadata": {
            "needs_background": "light"
          }
        },
        {
          "output_type": "display_data",
          "data": {
            "image/png": "[encoded data removed]",
            "text/plain": [
              "<Figure size 432x288 with 1 Axes>"
            ]
          },
          "metadata": {
            "needs_background": "light"
          }
        }
      ],
      "source": [
        "print(\"Parameters of q_u: \", q_u_param)\n",
        "print(\" Mean:\", q_u.mean())\n",
        "print(\" Std:\", q_u.std())\n",
        "print(\"Parameters of q_v: \", q_v_param)\n",
        "print(\" Mean:\", q_v.mean())\n",
        "print(\" Std:\", q_v.std())\n",
        "\n",
        "print(\" Time passed for the Mean-field variational approximation: \", toc-tic)\n",
        "print()\n",
        "\n",
        "# Marginal distribution for mu\n",
        "ind = np.arange(0., 8.0, 0.01)\n",
        "plt.hist(gibbs_samples[1000:,0], bins=20, density=True)\n",
        "plt.plot(ind, np.exp(q_u.logpdf(ind)))\n",
        "plt.title(\"Marginal distribution of u\")\n",
        "plt.show()\n",
        "\n",
        "# Marginal distribution for prec\n",
        "ind = np.arange(0, 8., 0.01)\n",
        "plt.hist(gibbs_samples[1000:,1], bins=20, density=True)\n",
        "plt.plot(ind, np.exp(q_v.logpdf(ind)))\n",
        "plt.title(\"Marginal distribution of v\")\n",
        "plt.show()"
      ]
    },
    {
      "cell_type": "markdown",
      "metadata": {
        "id": "MirAO3CCwyF7"
      },
      "source": [
        "How does it differ from the Laplace approximation?\n",
        "\n",
        "The mean-field variational approximation methods requires only a few iterations to converge at a suboptimal distribution (10 iterations, incontrast of 100 iterations of Laplace method), and it requires less computational time.\n",
        "However, the resulting distribution differs from the Gibbs marginal posterior. Indeed, by approximating the the posteriors on expectations the parameter are stuck in a suboptimal solution.\n",
        "\n",
        "The resulted approximation it's also worse than the Laplace approximation method."
      ]
    },
    {
      "cell_type": "markdown",
      "metadata": {
        "id": "204QD2oZ4w-k"
      },
      "source": [
        "# Mixture models\n",
        "Having:\n",
        "$$ p(\\boldsymbol{\\pi} \\vert \\alpha) = Dirichlet(\\alpha) $$\n",
        "$$ p(\\mu_k \\vert \\tau_0) = \\mathcal{N (0, \\tau_0)} $$\n",
        "$$p(\\tau_k \\vert \\alpha_0, \\beta_0) = Gamma(\\alpha_0, \\beta_0) $$\n",
        "$$ p(z_n \\vert \\boldsymbol\\pi) = Categorical(\\boldsymbol\\pi)$$\n",
        "$$ p(x_n \\vert \\ \\mu_{z_n}, \\tau_{z_n}, z_n) = \\mathcal{N}(\\mu_{z_n}, \\tau_{z_n}) $$\n",
        "\n",
        "The log-density is: \n",
        "\n",
        "$$\n",
        "\\begin{aligned}\n",
        "\\log &\\left[\\prod_{n} \\prod_{k}\\left(p\\left(z_{n} \\mid \\boldsymbol{\\pi}\\right) p\\left(x_{n} \\mid \\mu_{z_{n}}, \\tau_{z_{n}}\\right)\\right)^{\\left.\\mathbb{I} z_{n}=k\\right]}\\right]\\left[\\prod_{k} p\\left(\\mu_{k}\\right) p\\left(\\tau_{k}\\right)\\right] p(\\boldsymbol{\\pi}) \\\\\n",
        "=& \\sum_{n} \\sum_{k} \\mathbb{I}\\left[z_{n}=k\\right]\\left[\\log \\pi_{k}+\\left(-\\frac{1}{2} \\log (2 \\pi)+\\frac{1}{2} \\log \\tau_{d}-\\frac{1}{2} \\tau_{d}\\left(x_{d}-\\mu_{d}\\right)^{2}\\right)\\right] \\\\\n",
        "&+\\sum_{k}\\left(-\\frac{1}{2} \\log (2 \\pi)+\\frac{1}{2} \\log \\tau_{0}-\\frac{1}{2} \\tau_{0} \\mu_{k}^{2}+\\alpha_{0} \\log \\left(\\beta_{0}\\right)-\\Gamma\\left(\\alpha_{0}\\right)+\\left(\\alpha_{0}-1\\right) \\log \\left(\\tau_{k}\\right)-\\beta_{0} \\tau_{k}\\right) \\\\\n",
        "&+\\sum_{k}(\\alpha-1) \\log \\pi_{k}-\\log B(\\alpha)\n",
        "\\end{aligned}\n",
        "$$\n",
        "\n",
        "From the log joint density, assuming independent variables, we retrieve the following conditional distributions:\n",
        "$$\n",
        "p(\\pi_k \\mid \\boldsymbol{z}, \\alpha)=\\operatorname{Dirichlet}\\left(\\alpha+\\sum_{n} \\mathbb{I}\\left[z_{n}=k\\right]\\right)=\\operatorname{Dirichlet}\\left(\\alpha+N_{k}\\right)$$\n",
        "$$ p\\left(\\tau_{k} \\mid \\ldots\\right)=\\operatorname{Gamma}\\left(\\alpha_{0}+\\frac{1}{2} N_{k}, \\beta_{0}+\\frac{1}{2} \\sum_{n} \\mathbb{I}\\left(z_{n}=k\\right)\\left(x_{n}-\\mu_{k}\\right)^{2}\\right)$$\n",
        "$$ p\\left(\\mu_{k} \\mid \\ldots\\right)=\\mathcal{N}\\left(\\frac{\\tau_{k} \\sum_{n} \\mathbb{I}\\left[z_{n}=k\\right] x_{k}}{t_{0}+N_{k} \\tau_k}, t_{0}+N_{k} \\tau_k\\right)$$\n",
        "$$ p\\left(z_{n}=k \\mid x_{n}, \\ldots\\right)=\\frac{e^{\\nu_{n k}}}{\\sum_{j} e^{\\nu_{n j}}}$$\n",
        "\n",
        "To find the posterior latent distribution $q_{\\theta}$ we apply the CAVI method.\n",
        "\n",
        "$$\n",
        "\\begin{aligned}\n",
        "q(\\boldsymbol{z}, \\boldsymbol{\\pi}, \\boldsymbol{\\tau}, \\boldsymbol{\\mu})=\\prod_{n}\\left[q\\left(z_{n} \\mid \\boldsymbol{\\xi}_{n}\\right)\\right] q(\\boldsymbol{\\pi} \\mid \\boldsymbol{\\eta}) \\prod_{k}\\left[q\\left(\\tau_{k} \\mid a_{k}, b_{k}\\right) q\\left(\\mu_{k} \\mid m_{k}, t_{k}\\right)\\right]\n",
        "\\end{aligned}\n",
        "$$\n",
        "\n",
        "Each latent distribution present the following update:\n",
        "\n",
        "Dirichlet Latent distribution $q(\\pi_k \\vert \\cdot))$:\n",
        "$$\n",
        "\\mathbf{E}_{q_z} q(\\pi_k \\vert \\cdot)) \\sim Dirichlet(\\alpha_k) \\quad \\alpha_k = \\alpha + \\sum_{n} \\xi_{nk}\n",
        "$$\n",
        "\n",
        "Precision $\\tau_k$ with Gamma Latent distribution $q(\\tau_k \\vert \\cdot)$:\n",
        "\n",
        "$$a_k = \\alpha_0 + \\frac{1}{2} \\sum_{n}\\xi_{nk} $$\n",
        "$$b_k = \\beta_0 + \\frac{1}{2} \\sum_{n} \\xi_{nk} \\left( x_n^2 - 2x_n m + m^2 + \\frac{1}{t}\\right)$$\n",
        "$$\\mathbf{E}_{q_z q_\\mu} q(\\tau_k \\vert \\cdot) \\sim Gamma \\left(a_k , \\; b_k\\right)$$\n",
        "\n",
        "Mean $\\mu_k$ with Normal latent distribution $q(\\mu_k \\vert \\cdot)$:\n",
        "\n",
        "$$\n",
        "\\begin{aligned}\n",
        "m_k = \\frac{\\frac{a_k}{b_k} \\sum_{n}(\\xi_{nk} \\; x_n)}{\\tau_0 + \\frac{\\alpha}{\\beta} \\sum_{n}\\xi_{nk}} \\\\\n",
        "t_k = \\tau_0 + \\frac{a_k}{b_k} \\sum_{n}\\xi_{nk} \\\\\n",
        "\\mathbf{E}_{q_z q_\\tau} q(\\mu_k \\vert \\cdot) \\sim \\mathcal{N} \\left(m_k, \\; t_k \\right)\n",
        "\\end{aligned}\n",
        "$$\n",
        "\n",
        "Finally the categorical distribution $q_z$ is proportional to $\\nu_{nk}$:\n",
        "$$ \\nu_{n k}=\\log p\\left(z_{n}=k \\mid x_{n}, \\ldots\\right) \\propto \\log \\pi_{k}+\\left(-\\frac{1}{2} \\log (2 \\pi)+\\frac{1}{2} \\log \\tau_{k}-\\frac{1}{2} \\tau_{k}\\left(x_{n}-\\mu_{k}\\right)^{2}\\right) $$\n",
        "$$\n",
        "\\begin{aligned}\n",
        "\\zeta_{nk}  = \\mathbf{E}_{q_z q_\\tau q_\\mu} \\left[\\log \\pi_{k}+\\left(-\\frac{1}{2} \\log (2 \\pi)+\\frac{1}{2} \\log \\tau_{k}-\\frac{1}{2} \\tau_{k}\\left(x_{n}-\\mu_{k}\\right)^{2}\\right) \\right] \\\\\n",
        "\\zeta_{nk} = \\psi(\\alpha_k) - \\psi\\left(\\sum_{k'}\\alpha_{k'}\\right) + \\frac{1}{2}\\left(\\psi(a_k) - log(b_k) \\right) - \\frac{a_k}{2b_k}\\left(x_n^2 - 2x_n m_k + m_k^2 + \\frac{1}{t} \\right)\n",
        "\\end{aligned}\n",
        "$$\n",
        "$$\\xi_{n k} = \\frac{\\zeta_{n k}}{\\sum_{k'}\\zeta_{n k'}}$$\n",
        "$$ q(z_{nk}) \\propto  \\xi_{n k} $$\n",
        "\n",
        "Where $\\psi$ is the digamma function.\n",
        "\n"
      ]
    },
    {
      "cell_type": "code",
      "execution_count": 311,
      "metadata": {
        "colab": {
          "base_uri": "https://localhost:8080/",
          "height": 532
        },
        "id": "OkXWVLN8Xk19",
        "outputId": "11a5dbac-7edf-494c-854d-d55a214e2f66"
      },
      "outputs": [
        {
          "output_type": "execute_result",
          "data": {
            "text/plain": [
              "(array([ 0.,  0.,  0.,  0.,  0.,  0.,  0.,  0.,  2.,  2.,  4.,  9., 12.,\n",
              "        17., 14., 20., 18., 16., 23., 20.,  9.,  8., 12.,  7.,  7.,  9.,\n",
              "        11., 10., 15., 21., 27., 33., 44., 20., 29., 33., 15., 15.,  4.,\n",
              "         9.,  5.,  0.,  0.,  0.,  0.,  0.,  0.,  0.,  0.]),\n",
              " array([-4.        , -3.83673469, -3.67346939, -3.51020408, -3.34693878,\n",
              "        -3.18367347, -3.02040816, -2.85714286, -2.69387755, -2.53061224,\n",
              "        -2.36734694, -2.20408163, -2.04081633, -1.87755102, -1.71428571,\n",
              "        -1.55102041, -1.3877551 , -1.2244898 , -1.06122449, -0.89795918,\n",
              "        -0.73469388, -0.57142857, -0.40816327, -0.24489796, -0.08163265,\n",
              "         0.08163265,  0.24489796,  0.40816327,  0.57142857,  0.73469388,\n",
              "         0.89795918,  1.06122449,  1.2244898 ,  1.3877551 ,  1.55102041,\n",
              "         1.71428571,  1.87755102,  2.04081633,  2.20408163,  2.36734694,\n",
              "         2.53061224,  2.69387755,  2.85714286,  3.02040816,  3.18367347,\n",
              "         3.34693878,  3.51020408,  3.67346939,  3.83673469,  4.        ]),\n",
              " <a list of 49 Patch objects>)"
            ]
          },
          "metadata": {},
          "execution_count": 311
        },
        {
          "output_type": "display_data",
          "data": {
            "image/png": "[encoded data removed]",
            "text/plain": [
              "<Figure size 432x288 with 2 Axes>"
            ]
          },
          "metadata": {
            "needs_background": "light"
          }
        }
      ],
      "source": [
        "from scipy.special import logsumexp\n",
        "K = 3; N = 500; x = np.zeros(N)\n",
        "# True parameters\n",
        "pi_true = np.array([0.2, 0.35, 0.45])\n",
        "mu_true = np.array([-1.5, 0. , 1.5])\n",
        "tau_true = np.array([5., 1.,  5.])\n",
        "\n",
        "# Ground thruth and plots\n",
        "z_true = stats.multinomial(1, pi_true).rvs(N)\n",
        "colors = ['r', 'g', 'b']\n",
        "plt.subplot(1,2,1)\n",
        "for k in range(3):\n",
        "  x[z_true[:,k] == 1 ] = stats.norm(mu_true[k], 1./np.sqrt(tau_true[k])).rvs(sum(z_true[:, k]))\n",
        "  plt.hist(x[z_true[:, k] ==1], color=colors[k], bins=np.linspace(-4., 4., 50), alpha = 0.5)\n",
        "plt.subplot(1, 2, 2)\n",
        "plt.hist(x, bins=np.linspace(-4., 4, 50))"
      ]
    },
    {
      "cell_type": "code",
      "execution_count": 312,
      "metadata": {
        "id": "rxX1G8-HBpHT"
      },
      "outputs": [],
      "source": [
        "epochs = 200\n",
        "# priors parameters\n",
        "alpha, alpha_0, beta_0, tau_0 = ([1]*K, 0.5, 0.5, 0.5) #mu is assumed to be zero\n",
        "q_z = stats.dirichlet(alpha=100*np.ones(K)).rvs(N)\n",
        "\n",
        "# latent pdf\n",
        "q_pi = stats.dirichlet(alpha=100*np.ones(K)).rvs(1).flatten()\n",
        "q_tau = [stats.gamma(alpha_0, scale=1.0/beta_0)] * K\n",
        "q_mu = [stats.norm(0, scale=1./np.sqrt(tau_0))] * K\n",
        "\n",
        "#latent params\n",
        "q_pi_param = np.zeros(K)\n",
        "q_tau_param = np.zeros((epochs, K, 2))\n",
        "q_mu_param = np.zeros((epochs, K, 2))"
      ]
    },
    {
      "cell_type": "code",
      "execution_count": 313,
      "metadata": {
        "colab": {
          "base_uri": "https://localhost:8080/"
        },
        "id": "1D17K9FTu1Jq",
        "outputId": "2317dcd4-2feb-4cf5-cee7-c71770ed764d"
      },
      "outputs": [
        {
          "output_type": "stream",
          "name": "stdout",
          "text": [
            " Time passed for the Mixture model:  95.7071485109991\n"
          ]
        }
      ],
      "source": [
        "tic = time.perf_counter()\n",
        "for iter in range(epochs):\n",
        "    #for each k model\n",
        "    for k in range (0, K):\n",
        "      \n",
        "      q_z_k = q_z[:, k]\n",
        "      q_z_k_sum = q_z_k.sum()\n",
        "      q_z_k_X = (q_z_k * x).sum()\n",
        "      \n",
        "      # pi latent dirichlet parameter update\n",
        "      q_pi_param[k] = alpha[k] + q_z_k_sum\n",
        "\n",
        "      # tau gamma latent update\n",
        "      # param gamma a\n",
        "      q_tau_param[iter, k, 0] =  alpha_0 + 0.5 * q_z_k_sum\n",
        "      # param gamma b\n",
        "      E_mu = q_mu[k].mean()\n",
        "      mu_var = q_mu[k].var()\n",
        "      q_tau_param[iter, k, 1] = beta_0 + 0.5 *  np.sum(q_z_k * (x** 2 - 2*x*E_mu + E_mu**2 +  mu_var))\n",
        "      q_tau[k] = stats.gamma(q_tau_param[iter, k, 0], scale=1.0/q_tau_param[iter, k, 1])\n",
        "\n",
        "      # mu normal latent update\n",
        "      # param normal prec - tau_0\n",
        "      E_tau = q_tau[k].mean()\n",
        "      q_mu_param[iter, k, 1] =  1./tau_0**2 + E_tau * q_z_k_sum\n",
        "      # param normal mu\n",
        "      q_mu_param[iter, k, 0] = E_tau * q_z_k_X / q_mu_param[iter, k, 1]\n",
        "      q_mu[k] = stats.norm(q_mu_param[iter, k, 0], scale=1.0/np.sqrt(q_mu_param[iter, k, 1]))\n",
        "\n",
        "    # pi dirichlet distribution update\n",
        "    q_pi = stats.dirichlet(q_pi_param)\n",
        "\n",
        "    # z categorical latent update\n",
        "    alphas_sum = np.array(q_pi.alpha).sum()\n",
        "    for n in range (0, N):\n",
        "      for k in range (0, K): \n",
        "        q_z[n, k] = digamma(q_pi.alpha[k]) - digamma(alphas_sum) + 0.5 * \\\n",
        "                           (digamma(q_tau_param[iter, k, 0]) - np.log(q_tau_param[iter, k, 1])) \\\n",
        "                           -0.5 * q_tau_param[iter, k, 0] / q_tau_param[iter, k, 1] \\\n",
        "                           * (x[n]**2 - 2*x[n]*q_mu[k].mean() + q_mu[k].mean()**2 + q_mu[k].var())\n",
        "    for n in range (0, N):\n",
        "        q_z[n] = np.exp(q_z[n] - logsumexp(q_z[n,:]))\n",
        "\n",
        "toc = time.perf_counter()\n",
        "\n",
        "print(\" Time passed for the Mixture model: \", toc-tic)"
      ]
    },
    {
      "cell_type": "markdown",
      "source": [
        "For a fair comparison with the ground thruth we sort the cluster derived from the convergence of the algorithm by sorting them based on the $\\mu$ parameters found from the latent normal distribution"
      ],
      "metadata": {
        "id": "AbeUpiUWTLeQ"
      }
    },
    {
      "cell_type": "code",
      "source": [
        "idx=np.argsort(q_mu_param[-1, :,0])        \n",
        "res_q_pi_param = q_pi_param[idx]\n",
        "res_pi = res_q_pi_param/np.sum(res_q_pi_param)\n",
        "res_q_mu_param=q_mu_param[-1, idx, :]\n",
        "res_q_tau_param = q_tau_param[-1, idx, 0] / q_tau_param[-1, idx, 1]\n",
        "res_q_z=q_z[:, idx]"
      ],
      "metadata": {
        "id": "sVdCGjj2KOEj"
      },
      "execution_count": 314,
      "outputs": []
    },
    {
      "cell_type": "code",
      "source": [
        "print(\"Parameter mu for the normal distribution\")\n",
        "print(\" Estimated mu\", res_q_mu_param[:, 0])\n",
        "print(\" True mu: \", mu_true)\n",
        "print(\"Parameter mean for the gamma distribution\")\n",
        "print(\" Estimated tau mean \", res_q_tau_param)\n",
        "print(\" True value \", tau_true)\n",
        "\n",
        "print(\"Pi esimated\")\n",
        "print(\" \", res_pi)\n",
        "print(\"Pi true values\", pi_true)"
      ],
      "metadata": {
        "colab": {
          "base_uri": "https://localhost:8080/"
        },
        "id": "EIs8m5RFPTpe",
        "outputId": "fd488935-5d4d-4f4c-e050-30a2e4e3a747"
      },
      "execution_count": 319,
      "outputs": [
        {
          "output_type": "stream",
          "name": "stdout",
          "text": [
            "Parameter mu for the normal distribution\n",
            " Estimated mu [-1.29160691 -0.03856739  1.37186816]\n",
            " True mu:  [-1.5  0.   1.5]\n",
            "Parameter mean for the gamma distribution\n",
            " Estimated tau mean  [3.07735784 1.23462252 3.25833423]\n",
            " True value  [5. 1. 5.]\n",
            "Pi esimated\n",
            "  [0.33355623 0.11487265 0.55157113]\n",
            "Pi true values [0.2  0.35 0.45]\n"
          ]
        }
      ]
    },
    {
      "cell_type": "code",
      "source": [
        "classes = np.argmax(res_q_z, axis=1)\n",
        "true_classes = np.argmax(z_true, axis=1)\n",
        "class_category = np.zeros((N, K))\n",
        "true_class_category = np.zeros((N, K))\n",
        "for i in range(0, N):\n",
        "  class_category[i, classes[i]] = 1.\n",
        "  true_class_category[i, true_classes[i]] = 1."
      ],
      "metadata": {
        "id": "tu2VfBCoLo5L"
      },
      "execution_count": 316,
      "outputs": []
    },
    {
      "cell_type": "code",
      "source": [
        "np.sum(classes==true_classes)/N"
      ],
      "metadata": {
        "colab": {
          "base_uri": "https://localhost:8080/"
        },
        "id": "TPP1dtTBVMcD",
        "outputId": "6721f4bd-79a4-4613-859d-8b3c162be9ff"
      },
      "execution_count": 317,
      "outputs": [
        {
          "output_type": "execute_result",
          "data": {
            "text/plain": [
              "0.726"
            ]
          },
          "metadata": {},
          "execution_count": 317
        }
      ]
    },
    {
      "cell_type": "code",
      "execution_count": 318,
      "metadata": {
        "colab": {
          "base_uri": "https://localhost:8080/",
          "height": 265
        },
        "id": "qISMV9jEYmoy",
        "outputId": "1c240791-b9d3-4063-963b-298f3632ad07"
      },
      "outputs": [
        {
          "output_type": "display_data",
          "data": {
            "image/png": "[encoded data removed]",
            "text/plain": [
              "<Figure size 432x288 with 2 Axes>"
            ]
          },
          "metadata": {
            "needs_background": "light"
          }
        }
      ],
      "source": [
        "colors = ['r', 'g', 'b']\n",
        "plt.subplot(1, 2, 1)\n",
        "for k in range(3):\n",
        "  plt.hist(x[true_class_category[:, k]==1], color=colors[k], bins=np.linspace(-4., 4., 50), alpha = 0.5)\n",
        "\n",
        "plt.subplot(1, 2, 2)\n",
        "for k in range(3):\n",
        "  plt.hist(x[class_category[:, k]==1], color=colors[k], bins=np.linspace(-4., 4., 50), alpha = 0.4)"
      ]
    },
    {
      "cell_type": "markdown",
      "metadata": {
        "id": "EBKrlJiSH1dm"
      },
      "source": [
        "The result differs a little bit from the expected one as show in the plot.\n",
        "There could be some mistakes in the code, even though the analytical derivations should be correct. It could be the initialization of the latent variables or maybe it just require more epochs to converge better at the final solution. From the estimated results we can see that the normal distribution achieve close results to the ground thruth. But the gamma distribution differs with the true parameter. \n",
        "Overall the result seems correct we achieve an accuracy of 76\\%. Better results could be achieved by tuning better the parameters."
      ]
    }
  ],
  "metadata": {
    "colab": {
      "collapsed_sections": [],
      "name": "Exercise_03.ipynb",
      "provenance": []
    },
    "kernelspec": {
      "display_name": "Python 3",
      "language": "python",
      "name": "python3"
    },
    "language_info": {
      "codemirror_mode": {
        "name": "ipython",
        "version": 3
      },
      "file_extension": ".py",
      "mimetype": "text/x-python",
      "name": "python",
      "nbconvert_exporter": "python",
      "pygments_lexer": "ipython3",
      "version": "3.8.8"
    }
  },
  "nbformat": 4,
  "nbformat_minor": 0
}